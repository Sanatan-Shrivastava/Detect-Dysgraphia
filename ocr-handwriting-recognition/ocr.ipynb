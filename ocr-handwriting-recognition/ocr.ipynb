{
 "cells": [
  {
   "cell_type": "code",
   "execution_count": 1,
   "metadata": {},
   "outputs": [],
   "source": [
    "from tensorflow.keras.models import load_model"
   ]
  },
  {
   "cell_type": "code",
   "execution_count": 2,
   "metadata": {},
   "outputs": [],
   "source": [
    "#!pip install imutils"
   ]
  },
  {
   "cell_type": "code",
   "execution_count": 3,
   "metadata": {},
   "outputs": [],
   "source": [
    "from imutils.contours import sort_contours"
   ]
  },
  {
   "cell_type": "code",
   "execution_count": 4,
   "metadata": {},
   "outputs": [],
   "source": [
    "import numpy as np\n",
    "import argparse\n",
    "import imutils\n",
    "import cv2"
   ]
  },
  {
   "cell_type": "code",
   "execution_count": 5,
   "metadata": {},
   "outputs": [
    {
     "name": "stdout",
     "output_type": "stream",
     "text": [
      "[INFO] loading handwriting OCR model...\n"
     ]
    }
   ],
   "source": [
    "# construct the argument parser and parse the arguments\n",
    "# ap = argparse.ArgumentParser()\n",
    "# ap.add_argument(\"-i\", \"--image\", required=True,help=\"path to input image\")\n",
    "# ap.add_argument(\"-m\", \"--model\", type=str, required=True,help=\"path to trained handwriting recognition model\")\n",
    "# args = vars(ap.parse_args())\n",
    "\n",
    "# load the handwriting OCR model\n",
    "print(\"[INFO] loading handwriting OCR model...\")\n",
    "#model = load_model(args[\"model\"])\n",
    "model = load_model(\"handwriting.model\")\n",
    "\n",
    "# load the input image from disk, convert it to grayscale, and blur\n",
    "# it to reduce noise\n",
    "image = cv2.imread('images/number.jpeg')\n",
    "gray = cv2.cvtColor(image, cv2.COLOR_BGR2GRAY)\n",
    "blurred = cv2.GaussianBlur(gray, (5, 5), 0)\n"
   ]
  },
  {
   "cell_type": "code",
   "execution_count": 6,
   "metadata": {},
   "outputs": [],
   "source": [
    "# perform edge detection, find contours in the edge map, and sort the\n",
    "# resulting contours from left-to-right\n",
    "edged = cv2.Canny(blurred, 30, 150)\n",
    "cnts = cv2.findContours(edged.copy(), cv2.RETR_EXTERNAL,\n",
    "    cv2.CHAIN_APPROX_SIMPLE)\n",
    "cnts = imutils.grab_contours(cnts)\n",
    "cnts = sort_contours(cnts, method=\"left-to-right\")[0]\n",
    "\n",
    "# initialize the list of contour bounding boxes and associated\n",
    "# characters that we'll be OCR'ing\n",
    "chars = []\n"
   ]
  },
  {
   "cell_type": "code",
   "execution_count": 7,
   "metadata": {},
   "outputs": [],
   "source": [
    "# loop over the contours\n",
    "for c in cnts:\n",
    "    # compute the bounding box of the contour\n",
    "    (x, y, w, h) = cv2.boundingRect(c)\n",
    "\n",
    "    # filter out bounding boxes, ensuring they are neither too small\n",
    "    # nor too large\n",
    "    if (w >= 5 and w <= 150) and (h >= 15 and h <= 120):\n",
    "        # extract the character and threshold it to make the character\n",
    "        # appear as *white* (foreground) on a *black* background, then\n",
    "        # grab the width and height of the thresholded image\n",
    "        roi = gray[y:y + h, x:x + w]\n",
    "        thresh = cv2.threshold(roi, 0, 255,\n",
    "            cv2.THRESH_BINARY_INV | cv2.THRESH_OTSU)[1]\n",
    "        (tH, tW) = thresh.shape\n",
    "\n",
    "        # if the width is greater than the height, resize along the\n",
    "        # width dimension\n",
    "        if tW > tH:\n",
    "            thresh = imutils.resize(thresh, width=32)\n",
    "\n",
    "        # otherwise, resize along the height\n",
    "        else:\n",
    "            thresh = imutils.resize(thresh, height=32)\n",
    "\n",
    "        # re-grab the image dimensions (now that its been resized)\n",
    "        # and then determine how much we need to pad the width and\n",
    "        # height such that our image will be 32x32\n",
    "        (tH, tW) = thresh.shape\n",
    "        dX = int(max(0, 32 - tW) / 2.0)\n",
    "        dY = int(max(0, 32 - tH) / 2.0)\n",
    "\n",
    "        # pad the image and force 32x32 dimensions\n",
    "        padded = cv2.copyMakeBorder(thresh, top=dY, bottom=dY,\n",
    "            left=dX, right=dX, borderType=cv2.BORDER_CONSTANT,\n",
    "            value=(0, 0, 0))\n",
    "        padded = cv2.resize(padded, (32, 32))\n",
    "\n",
    "        # prepare the padded image for classification via our\n",
    "        # handwriting OCR model\n",
    "        padded = padded.astype(\"float32\") / 255.0\n",
    "        padded = np.expand_dims(padded, axis=-1)\n",
    "\n",
    "        # update our list of characters that will be OCR'd\n",
    "        chars.append((padded, (x, y, w, h)))\n"
   ]
  },
  {
   "cell_type": "code",
   "execution_count": 8,
   "metadata": {},
   "outputs": [
    {
     "name": "stdout",
     "output_type": "stream",
     "text": [
      "[INFO] 7 - 36.24%\n",
      "[INFO] 2 - 65.86%\n",
      "[INFO] 5 - 48.25%\n",
      "[INFO] 2 - 96.88%\n",
      "[INFO] 7 - 90.07%\n",
      "[INFO] 3 - 88.43%\n",
      "[INFO] E - 62.08%\n",
      "[INFO] C - 39.71%\n",
      "[INFO] 4 - 96.50%\n",
      "[INFO] 3 - 56.03%\n",
      "[INFO] 7 - 75.03%\n",
      "[INFO] 4 - 90.01%\n",
      "[INFO] L - 20.58%\n",
      "[INFO] 2 - 90.72%\n",
      "[INFO] 1 - 98.03%\n",
      "[INFO] 2 - 90.81%\n",
      "[INFO] T - 86.33%\n",
      "[INFO] 7 - 51.90%\n",
      "[INFO] 4 - 55.81%\n",
      "[INFO] 3 - 95.71%\n",
      "[INFO] 9 - 33.68%\n",
      "[INFO] 7 - 97.44%\n",
      "[INFO] 2 - 22.58%\n",
      "[INFO] V - 43.82%\n",
      "[INFO] 5 - 91.29%\n",
      "[INFO] 3 - 99.37%\n",
      "[INFO] 3 - 52.24%\n",
      "[INFO] 2 - 82.36%\n",
      "[INFO] 1 - 90.95%\n",
      "[INFO] 6 - 48.60%\n",
      "[INFO] Q - 34.33%\n",
      "[INFO] 7 - 95.39%\n",
      "[INFO] 7 - 72.79%\n",
      "[INFO] R - 24.47%\n",
      "725273EC4374L212T743972V533216Q77R\n"
     ]
    },
    {
     "data": {
      "text/plain": [
       "-1"
      ]
     },
     "execution_count": 8,
     "metadata": {},
     "output_type": "execute_result"
    }
   ],
   "source": [
    "\n",
    "# extract the bounding box locations and padded characters\n",
    "boxes = [b[1] for b in chars]\n",
    "chars = np.array([c[0] for c in chars], dtype=\"float32\")\n",
    "\n",
    "# OCR the characters using our handwriting recognition model\n",
    "preds = model.predict(chars)\n",
    "\n",
    "# define the list of label names\n",
    "labelNames = \"0123456789\"\n",
    "labelNames += \"ABCDEFGHIJKLMNOPQRSTUVWXYZ\"\n",
    "labelNames = [l for l in labelNames]\n",
    "\n",
    "s=''\n",
    "# loop over the predictions and bounding box locations together\n",
    "for (pred, (x, y, w, h)) in zip(preds, boxes):\n",
    "    # find the index of the label with the largest corresponding\n",
    "    # probability, then extract the probability and label\n",
    "    i = np.argmax(pred)\n",
    "    prob = pred[i]\n",
    "    label = labelNames[i]\n",
    "    s=s+label\n",
    "\n",
    "    # draw the prediction on the image\n",
    "    print(\"[INFO] {} - {:.2f}%\".format(label, prob * 100))\n",
    "    cv2.rectangle(image, (x, y), (x + w, y + h), (0, 255, 0), 2)\n",
    "    cv2.putText(image, label, (x - 10, y - 10),\n",
    "        cv2.FONT_HERSHEY_SIMPLEX, 1.2, (0, 255, 0), 2)\n",
    "\n",
    "    # show the image\n",
    "print(s)\n",
    "s=s.lower()\n",
    "cv2.imshow(\"Image\", image)\n",
    "cv2.waitKey(0)\n"
   ]
  },
  {
   "cell_type": "code",
   "execution_count": 9,
   "metadata": {},
   "outputs": [],
   "source": [
    "#!pip install autocorrect"
   ]
  },
  {
   "cell_type": "code",
   "execution_count": 10,
   "metadata": {},
   "outputs": [],
   "source": [
    "# from autocorrect import Speller\n",
    "\n",
    "# spell = Speller(lang='en')\n",
    "\n",
    "# print(spell(s))"
   ]
  },
  {
   "cell_type": "code",
   "execution_count": 11,
   "metadata": {},
   "outputs": [],
   "source": [
    "#!pip install textblob"
   ]
  },
  {
   "cell_type": "code",
   "execution_count": 12,
   "metadata": {},
   "outputs": [
    {
     "name": "stdout",
     "output_type": "stream",
     "text": [
      "original text: 725273ec4374l212t743972v533216q77r\n",
      "corrected text: 725273ec4374l212t743972v533216q77r\n"
     ]
    }
   ],
   "source": [
    "from textblob import TextBlob        # incorrect spelling\n",
    "print(\"original text: \"+str(s))\n",
    " \n",
    "b = TextBlob(s)\n",
    " \n",
    "# prints the corrected spelling\n",
    "print(\"corrected text: \"+str(b.correct()))"
   ]
  },
  {
   "cell_type": "code",
   "execution_count": null,
   "metadata": {},
   "outputs": [],
   "source": []
  }
 ],
 "metadata": {
  "kernelspec": {
   "display_name": "Python 3",
   "language": "python",
   "name": "python3"
  },
  "language_info": {
   "codemirror_mode": {
    "name": "ipython",
    "version": 3
   },
   "file_extension": ".py",
   "mimetype": "text/x-python",
   "name": "python",
   "nbconvert_exporter": "python",
   "pygments_lexer": "ipython3",
   "version": "3.8.5"
  }
 },
 "nbformat": 4,
 "nbformat_minor": 4
}
